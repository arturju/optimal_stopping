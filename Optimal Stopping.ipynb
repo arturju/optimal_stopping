{
 "cells": [
  {
   "cell_type": "code",
   "execution_count": 167,
   "id": "c75bd2b4",
   "metadata": {},
   "outputs": [],
   "source": [
    "import numpy as np\n",
    "import random\n",
    "import matplotlib.pyplot as plt\n",
    "plt.rcParams[\"figure.figsize\"] = (16,8)"
   ]
  },
  {
   "cell_type": "code",
   "execution_count": 129,
   "id": "2787368a",
   "metadata": {},
   "outputs": [
    {
     "data": {
      "text/plain": [
       "[0, 5, 7, 8, 6, 4, 9, 2, 3, 1]"
      ]
     },
     "execution_count": 129,
     "metadata": {},
     "output_type": "execute_result"
    }
   ],
   "source": [
    "NUM_OF_CANDIDATES = 10\n",
    "candidates = random.sample(range(NUM_OF_CANDIDATES), NUM_OF_CANDIDATES)\n",
    "candidates  # ranks"
   ]
  },
  {
   "cell_type": "code",
   "execution_count": 148,
   "id": "5c00b8c3",
   "metadata": {},
   "outputs": [
    {
     "name": "stdout",
     "output_type": "stream",
     "text": [
      "Picked best candidate 2838 out of 9000; 31.53%\n"
     ]
    }
   ],
   "source": [
    "NUM_OF_TRIALS = 900\n",
    "START_ACCEPT = 6 # not index. adjusted in code\n",
    "index = START_ACCEPT - 1\n",
    "\n",
    "SUCCESS_CNT = 0\n",
    "\n",
    "for i in range(NUM_OF_TRIALS):\n",
    "    candidates = random.sample(range(NUM_OF_CANDIDATES), NUM_OF_CANDIDATES)  # new lineup everytime\n",
    "    selected_candidate_rank = None\n",
    "    \n",
    "    prev_candidates = candidates[:index]\n",
    "    remaining_candidates = candidates[index+1:]\n",
    "    best_thus_far = max(prev_candidates)\n",
    "    \n",
    "    for candidate_rank in remaining_candidates:\n",
    "        if candidate_rank > best_thus_far:\n",
    "            selected_candidate_rank = candidate_rank  # found better than best we've seen so far! settle\n",
    "            \n",
    "    # If None, then we have not found better than our best_thus_far\n",
    "    if selected_candidate_rank is not None:\n",
    "        is_best = all(selected_candidate_rank >= rank for rank in candidates)\n",
    "        if is_best:\n",
    "            SUCCESS_CNT += 1\n",
    "\n",
    "print(f\"Picked best candidate {SUCCESS_CNT} out of {NUM_OF_TRIALS}; {(SUCCESS_CNT/NUM_OF_TRIALS)*100:.2f}%\")"
   ]
  },
  {
   "cell_type": "markdown",
   "id": "08c0462e",
   "metadata": {},
   "source": [
    "Let's make into a function:"
   ]
  },
  {
   "cell_type": "code",
   "execution_count": 178,
   "id": "f1e01a69",
   "metadata": {},
   "outputs": [],
   "source": [
    "def probability_of_optimally_stopping(start_accept):\n",
    "    SUCCESS_CNT = 0\n",
    "    \n",
    "    for i in range(NUM_OF_TRIALS):\n",
    "        candidates = random.sample(range(NUM_OF_CANDIDATES), NUM_OF_CANDIDATES)  # new lineup everytime\n",
    "        selected_candidate_rank = None\n",
    "\n",
    "        prev_candidates = candidates[:start_accept-1]\n",
    "        remaining_candidates = candidates[start_accept:]\n",
    "        best_thus_far = max(prev_candidates)\n",
    "\n",
    "        for candidate_rank in remaining_candidates:\n",
    "            if candidate_rank > best_thus_far:\n",
    "                selected_candidate_rank = candidate_rank  # found better than best we've seen so far! settle\n",
    "\n",
    "        # If None, then we have not found better than our best_thus_far\n",
    "        if selected_candidate_rank is not None:\n",
    "            is_best = all(selected_candidate_rank >= rank for rank in candidates)\n",
    "            if is_best:\n",
    "                SUCCESS_CNT += 1\n",
    "                \n",
    "    return round((SUCCESS_CNT/NUM_OF_TRIALS), 3)"
   ]
  },
  {
   "cell_type": "code",
   "execution_count": 183,
   "id": "8d003468",
   "metadata": {},
   "outputs": [
    {
     "data": {
      "text/plain": [
       "0.306"
      ]
     },
     "execution_count": 183,
     "metadata": {},
     "output_type": "execute_result"
    }
   ],
   "source": [
    "probability_of_optimally_stopping(4)"
   ]
  },
  {
   "cell_type": "markdown",
   "id": "b6025957",
   "metadata": {},
   "source": [
    "<br><br><br><br><br><br><br><br><br><br><br><br><br><br><br><br><br><br><br><br><br><br><br><br><br><br>"
   ]
  },
  {
   "cell_type": "code",
   "execution_count": 177,
   "id": "ad9d3d60",
   "metadata": {},
   "outputs": [
    {
     "data": {
      "image/png": "[encoded data removed]",
      "text/plain": [
       "<Figure size 1152x576 with 1 Axes>"
      ]
     },
     "metadata": {
      "needs_background": "light"
     },
     "output_type": "display_data"
    }
   ],
   "source": [
    "NUM_OF_CANDIDATES = 20\n",
    "NUM_OF_TRIALS = 10000\n",
    "\n",
    "xpoints = range(2, NUM_OF_CANDIDATES)                 \n",
    "ypoints = [probability_of_optimally_stopping(x) for x in xpoints]\n",
    "\n",
    "plt.plot(xpoints, ypoints, 'ro', linestyle='--')\n",
    "\n",
    "plt.title(\"Optimal Stopping\")\n",
    "plt.xlabel('START_ACCEPTING')     #set the label of the x-axis\n",
    "plt.ylabel('% Success')\n",
    "plt.grid()\n"
   ]
  },
  {
   "cell_type": "markdown",
   "id": "1ed52cae",
   "metadata": {},
   "source": [
    "# The answer is *e<sup>-1</sup>* ≈ 0.3678"
   ]
  },
  {
   "cell_type": "markdown",
   "id": "4b6bf2ce",
   "metadata": {},
   "source": [
    "## References\n",
    "- [numberphile video](https://www.youtube.com/watch?v=XIOoCKO-ybQ&t=0s&ab_channel=Numberphile2)"
   ]
  },
  {
   "cell_type": "code",
   "execution_count": null,
   "id": "d0cd9b75",
   "metadata": {},
   "outputs": [],
   "source": []
  }
 ],
 "metadata": {
  "kernelspec": {
   "display_name": "Python 3",
   "language": "python",
   "name": "python3"
  },
  "language_info": {
   "codemirror_mode": {
    "name": "ipython",
    "version": 3
   },
   "file_extension": ".py",
   "mimetype": "text/x-python",
   "name": "python",
   "nbconvert_exporter": "python",
   "pygments_lexer": "ipython3",
   "version": "3.7.3"
  }
 },
 "nbformat": 4,
 "nbformat_minor": 5
}
